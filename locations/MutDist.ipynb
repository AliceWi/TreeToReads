{
 "metadata": {
  "name": ""
 },
 "nbformat": 3,
 "nbformat_minor": 0,
 "worksheets": [
  {
   "cells": [
    {
     "cell_type": "code",
     "collapsed": false,
     "input": [
      "\n",
      "#cat VCF.CFSAN000189.vcf | cut -f2 | sort -g | tail -n+4 > bariellylocs.txt \n",
      "#cat contig1.txt | cut -f2 | sort -g | > pipelocs.txt "
     ],
     "language": "python",
     "metadata": {},
     "outputs": [],
     "prompt_number": 1
    },
    {
     "cell_type": "code",
     "collapsed": false,
     "input": [
      "import matplotlib.pyplot as plt\n",
      "import random\n",
      "import scipy.stats"
     ],
     "language": "python",
     "metadata": {},
     "outputs": [],
     "prompt_number": 1
    },
    {
     "cell_type": "code",
     "collapsed": false,
     "input": [
      "fo=open(\"pipelocs.txt\").readlines()\n",
      "fo=random.sample(fo,2000)\n",
      "fo=[int(loc) for loc in fo]\n",
      "fo.sort()\n",
      "pdists=[]\n",
      "for i,lin in enumerate(fo[1:]):\n",
      "    pdists.append(int(lin)-int(fo[i]))\n"
     ],
     "language": "python",
     "metadata": {},
     "outputs": [],
     "prompt_number": 29
    },
    {
     "cell_type": "code",
     "collapsed": false,
     "input": [
      "max(fo)"
     ],
     "language": "python",
     "metadata": {},
     "outputs": [
      {
       "metadata": {},
       "output_type": "pyout",
       "prompt_number": 3,
       "text": [
        "4722794"
       ]
      }
     ],
     "prompt_number": 3
    },
    {
     "cell_type": "code",
     "collapsed": false,
     "input": [
      "nsnp=2000\n",
      "genlen=4728989\n",
      "lambd=0.8\n",
      "clustPerc=0.25"
     ],
     "language": "python",
     "metadata": {},
     "outputs": [],
     "prompt_number": 4
    },
    {
     "cell_type": "code",
     "collapsed": false,
     "input": [
      "rands=set()\n",
      "i=0\n",
      "while i < int(nsnp): #This is the number of SNPs\n",
      "      if i < (int(nsnp)*clustPerc):\n",
      "            i+=2\n",
      "            ran=random.choice(range(genlen))\n",
      "            rands.add(ran)\n",
      "            diff = 0\n",
      "            while diff==0: #RISKY at HIGH LAMBDA!\n",
      "                diff=int(random.expovariate(lambd))\n",
      "            if (random.choice([0, 1]) or (ran-diff < 0)) and (ran+diff < genlen):\n",
      "              ranpair=ran+diff\n",
      "            else:\n",
      "              ranpair=ran-diff #Can run off of the end of the genome...\n",
      "            rands.add(ranpair)\n",
      "      else:\n",
      "            i+=1\n",
      "            ran=random.choice(range(genlen))\n",
      "            rands.add(ran)"
     ],
     "language": "python",
     "metadata": {},
     "outputs": [],
     "prompt_number": 5
    },
    {
     "cell_type": "code",
     "collapsed": false,
     "input": [
      "fo=list(rands)"
     ],
     "language": "python",
     "metadata": {},
     "outputs": [],
     "prompt_number": 6
    },
    {
     "cell_type": "code",
     "collapsed": false,
     "input": [
      "#fo=open(\"test_out/mutsites.txt\").readlines()\n",
      "#fo=[int(loc) for loc in fo]\n",
      "fo.sort()\n",
      "simdists=[]\n",
      "for i,lin in enumerate(fo[1:]):\n",
      "    simdists.append(int(lin)-int(fo[i]))\n"
     ],
     "language": "python",
     "metadata": {},
     "outputs": [],
     "prompt_number": 7
    },
    {
     "cell_type": "code",
     "collapsed": false,
     "input": [
      "len(simdists)"
     ],
     "language": "python",
     "metadata": {},
     "outputs": [
      {
       "metadata": {},
       "output_type": "pyout",
       "prompt_number": 8,
       "text": [
        "1999"
       ]
      }
     ],
     "prompt_number": 8
    },
    {
     "cell_type": "code",
     "collapsed": false,
     "input": [
      "loc, scale = scipy.stats.expon.fit(simdists, floc=0)\n",
      "loc, scale\n",
      "sum(simdists)/len(simdists)"
     ],
     "language": "python",
     "metadata": {},
     "outputs": [
      {
       "metadata": {},
       "output_type": "pyout",
       "prompt_number": 9,
       "text": [
        "2362"
       ]
      }
     ],
     "prompt_number": 9
    },
    {
     "cell_type": "code",
     "collapsed": false,
     "input": [
      "pyplot.hist(simdists)"
     ],
     "language": "python",
     "metadata": {},
     "outputs": [
      {
       "metadata": {},
       "output_type": "pyout",
       "prompt_number": 10,
       "text": [
        "(array([  1.38600000e+03,   4.25000000e+02,   1.22000000e+02,\n",
        "         4.10000000e+01,   1.90000000e+01,   4.00000000e+00,\n",
        "         0.00000000e+00,   1.00000000e+00,   0.00000000e+00,\n",
        "         1.00000000e+00]),\n",
        " array([  1.00000000e+00,   2.88300000e+03,   5.76500000e+03,\n",
        "         8.64700000e+03,   1.15290000e+04,   1.44110000e+04,\n",
        "         1.72930000e+04,   2.01750000e+04,   2.30570000e+04,\n",
        "         2.59390000e+04,   2.88210000e+04]),\n",
        " <a list of 10 Patch objects>)"
       ]
      },
      {
       "metadata": {},
       "output_type": "display_data",
       "png": "[encoded data removed]",
       "text": [
        "<matplotlib.figure.Figure at 0x7f7f8933b990>"
       ]
      }
     ],
     "prompt_number": 10
    },
    {
     "cell_type": "code",
     "collapsed": false,
     "input": [
      "fo=open(\"ksnplocs.txt\").readlines()\n",
      "#fo=random.sample(fo,10)\n",
      "fo=[int(loc) for loc in fo]\n",
      "fo.sort()\n",
      "kdists=[]\n",
      "for i,lin in enumerate(fo[1:]):\n",
      "    kdists.append(int(lin)-int(fo[i]))\n"
     ],
     "language": "python",
     "metadata": {},
     "outputs": [],
     "prompt_number": 11
    },
    {
     "cell_type": "code",
     "collapsed": false,
     "input": [
      "randdist=random.sample(range(int(fo[-1])),2000)\n",
      "randdist.sort()\n",
      "rdists=[]\n",
      "for i,lin in enumerate(randdist[1:]):\n",
      "    rdists.append(int(lin)-int(randdist[i]))"
     ],
     "language": "python",
     "metadata": {},
     "outputs": [],
     "prompt_number": 27
    },
    {
     "cell_type": "code",
     "collapsed": false,
     "input": [
      "ndists[:10]"
     ],
     "language": "python",
     "metadata": {},
     "outputs": [
      {
       "metadata": {},
       "output_type": "pyout",
       "prompt_number": 51,
       "text": [
        "[1, 1, 2, 7, 5, 1, 3, 6, 3, 1]"
       ]
      }
     ],
     "prompt_number": 51
    },
    {
     "cell_type": "code",
     "collapsed": false,
     "input": [
      "fo=open(\"/home/ejmctavish/Documents/FDA/TreetoReads/ms_run/unif_mutsites.txt\").readlines()\n",
      "fo=[int(it) for it in fo]\n",
      "fo.sort()\n",
      "udists=[]\n",
      "for i,lin in enumerate(fo[1:]):\n",
      "    udists.append(int(lin)-int(fo[i]))"
     ],
     "language": "python",
     "metadata": {},
     "outputs": [],
     "prompt_number": 78
    },
    {
     "cell_type": "code",
     "collapsed": false,
     "input": [
      "fo=open(\"/home/ejmctavish/Documents/FDA/TreetoReads/ms_run/mutsites.txt\").readlines()\n",
      "fo=[int(it) for it in fo]\n",
      "fo.sort()\n",
      "ndists=[]\n",
      "for i,lin in enumerate(fo[1:]):\n",
      "    ndists.append(int(lin)-int(fo[i]))\n"
     ],
     "language": "python",
     "metadata": {},
     "outputs": [],
     "prompt_number": 79
    },
    {
     "cell_type": "code",
     "collapsed": false,
     "input": [
      "bins=range(0,10000,100)\n",
      "pyplot.hist(pdists, bins, alpha=0.5, label='observed distances')\n",
      "#pyplot.hist(kdists, bins, alpha=0.5, label='ksnp')\n",
      "#pyplot.hist(simdists, bins, alpha=0.5, label='simulated')\n",
      "#pyplot.hist(Hdists, bins, alpha=0.5, label='HALF')\n",
      "pyplot.hist(ndists, bins, alpha=0.5, label='simulated distances w/clustering')\n",
      "pyplot.hist(udists, bins, alpha=0.5, label='simulated distances from uniform distribution')\n",
      "#pyplot.hist(rdists, bins, alpha=0.5, label='sampled')\n",
      "pyplot.title(\"Distances between SNPs\")\n",
      "pyplot.legend(loc='upper right')\n",
      "pyplot.show()\n"
     ],
     "language": "python",
     "metadata": {},
     "outputs": [
      {
       "metadata": {},
       "output_type": "display_data",
       "png": "[encoded data removed]",
       "text": [
        "<matplotlib.figure.Figure at 0x7f7f88671c50>"
       ]
      }
     ],
     "prompt_number": 80
    },
    {
     "cell_type": "code",
     "collapsed": false,
     "input": [
      "bins=range(0,1000,30)\n",
      "pyplot.hist(pdists, bins, alpha=0.5, label='snp pipeline')\n",
      "#pyplot.hist(simdists, bins, alpha=0.5, label='simulated')\n",
      "#pyplot.hist(kdists, bins, alpha=0.5, label='ksnp ')\n",
      "#pyplot.hist(rdists, bins, alpha=0.5, label='random')\n",
      "#pyplot.hist(Hdists, bins, alpha=0.5, label='HALF')\n",
      "pyplot.hist(ndists, bins, alpha=0.5, label='simulated distances w/clustering')\n",
      "pyplot.hist(udists, bins, alpha=0.5, label='simulated distances from uniform distribution')\n",
      "pyplot.legend(loc='upper right')\n",
      "pyplot.show()"
     ],
     "language": "python",
     "metadata": {},
     "outputs": [
      {
       "metadata": {},
       "output_type": "display_data",
       "png": "[encoded data removed]",
       "text": [
        "<matplotlib.figure.Figure at 0x7f7f8858e5d0>"
       ]
      }
     ],
     "prompt_number": 82
    },
    {
     "cell_type": "code",
     "collapsed": false,
     "input": [
      "bins=range(1000,50000,1000)\n",
      "pyplot.hist(pdists, bins, alpha=0.5, label='snp pipeline')\n",
      "pyplot.hist(simdists, bins, alpha=0.5, label='simulated')\n",
      "#pyplot.hist(kdists, bins, alpha=0.5, label='ksnp ')\n",
      "#pyplot.hist(rdists, bins, alpha=0.5, label='random')\n",
      "#pyplot.hist(ndists, bins, alpha=0.5, label='nu')\n",
      "pyplot.legend(loc='upper right')\n",
      "pyplot.show()"
     ],
     "language": "python",
     "metadata": {},
     "outputs": [
      {
       "metadata": {},
       "output_type": "display_data",
       "png": "[encoded data removed]",
       "text": [
        "<matplotlib.figure.Figure at 0x7f7f8837b590>"
       ]
      }
     ],
     "prompt_number": 75
    },
    {
     "cell_type": "code",
     "collapsed": false,
     "input": [
      "bins=range(0,4000,1)\n",
      "hist, bin_edges = numpy.histogram(pdists, bins)\n",
      "hist1, bin_edges1 = numpy.histogram(rdists, bins)\n",
      "diff=hist-hist1\n",
      "plot(bins[:-1],diff)\n",
      "axhline()"
     ],
     "language": "python",
     "metadata": {},
     "outputs": [
      {
       "metadata": {},
       "output_type": "pyout",
       "prompt_number": 17,
       "text": [
        "<matplotlib.lines.Line2D at 0x7f7f8872bbd0>"
       ]
      },
      {
       "metadata": {},
       "output_type": "display_data",
       "png": "[encoded data removed]",
       "text": [
        "<matplotlib.figure.Figure at 0x7f7f8872bb90>"
       ]
      }
     ],
     "prompt_number": 17
    },
    {
     "cell_type": "code",
     "collapsed": false,
     "input": [],
     "language": "python",
     "metadata": {},
     "outputs": [],
     "prompt_number": 17
    },
    {
     "cell_type": "code",
     "collapsed": false,
     "input": [],
     "language": "python",
     "metadata": {},
     "outputs": [],
     "prompt_number": 17
    },
    {
     "cell_type": "code",
     "collapsed": false,
     "input": [],
     "language": "python",
     "metadata": {},
     "outputs": [],
     "prompt_number": 15
    },
    {
     "cell_type": "code",
     "collapsed": false,
     "input": [],
     "language": "python",
     "metadata": {},
     "outputs": []
    }
   ],
   "metadata": {}
  }
 ]
}