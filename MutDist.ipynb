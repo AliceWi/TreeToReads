{
 "metadata": {
  "name": ""
 },
 "nbformat": 3,
 "nbformat_minor": 0,
 "worksheets": [
  {
   "cells": [
    {
     "cell_type": "code",
     "collapsed": false,
     "input": [
      "\n",
      "#cat VCF.CFSAN000189.vcf | cut -f2 | sort -g | tail -n+4 > bariellylocs.txt \n",
      "#cat contig1.txt | cut -f2 | sort -g | > pipelocs.txt "
     ],
     "language": "python",
     "metadata": {},
     "outputs": [],
     "prompt_number": 1
    },
    {
     "cell_type": "code",
     "collapsed": false,
     "input": [
      "import matplotlib.pyplot as plt\n",
      "import random\n",
      "import scipy.stats"
     ],
     "language": "python",
     "metadata": {},
     "outputs": [],
     "prompt_number": 1
    },
    {
     "cell_type": "code",
     "collapsed": false,
     "input": [
      "fo=open(\"pipelocs.txt\").readlines()\n",
      "fo=random.sample(fo,2000)\n",
      "fo=[int(loc) for loc in fo]\n",
      "fo.sort()\n",
      "pdists=[]\n",
      "for i,lin in enumerate(fo[1:]):\n",
      "    pdists.append(int(lin)-int(fo[i]))\n"
     ],
     "language": "python",
     "metadata": {},
     "outputs": [],
     "prompt_number": 2
    },
    {
     "cell_type": "code",
     "collapsed": false,
     "input": [
      "max(fo)"
     ],
     "language": "python",
     "metadata": {},
     "outputs": [
      {
       "metadata": {},
       "output_type": "pyout",
       "prompt_number": 3,
       "text": [
        "4720513"
       ]
      }
     ],
     "prompt_number": 3
    },
    {
     "cell_type": "code",
     "collapsed": false,
     "input": [
      "nsnp=2000\n",
      "genlen=4728989\n",
      "lambd=0.8\n",
      "clustPerc=0.25"
     ],
     "language": "python",
     "metadata": {},
     "outputs": [],
     "prompt_number": 4
    },
    {
     "cell_type": "code",
     "collapsed": false,
     "input": [
      "rands=set()\n",
      "i=0\n",
      "while i < int(nsnp): #This is the number of SNPs\n",
      "      if i < (int(nsnp)*clustPerc):\n",
      "            i+=2\n",
      "            ran=random.choice(range(genlen))\n",
      "            rands.add(ran)\n",
      "            diff = 0\n",
      "            while diff==0: #RISKY at HIGH LAMBDA!\n",
      "                diff=int(random.expovariate(lambd))\n",
      "            if (random.choice([0, 1]) or (ran-diff < 0)) and (ran+diff < genlen):\n",
      "              ranpair=ran+diff\n",
      "            else:\n",
      "              ranpair=ran-diff #Can run off of the end of the genome...\n",
      "            rands.add(ranpair)\n",
      "      else:\n",
      "            i+=1\n",
      "            ran=random.choice(range(genlen))\n",
      "            rands.add(ran)"
     ],
     "language": "python",
     "metadata": {},
     "outputs": [],
     "prompt_number": 5
    },
    {
     "cell_type": "code",
     "collapsed": false,
     "input": [
      "fo=list(rands)"
     ],
     "language": "python",
     "metadata": {},
     "outputs": [],
     "prompt_number": 6
    },
    {
     "cell_type": "code",
     "collapsed": false,
     "input": [
      "#fo=open(\"test_out/mutsites.txt\").readlines()\n",
      "#fo=[int(loc) for loc in fo]\n",
      "fo.sort()\n",
      "simdists=[]\n",
      "for i,lin in enumerate(fo[1:]):\n",
      "    simdists.append(int(lin)-int(fo[i]))\n"
     ],
     "language": "python",
     "metadata": {},
     "outputs": [],
     "prompt_number": 7
    },
    {
     "cell_type": "code",
     "collapsed": false,
     "input": [
      "len(simdists)"
     ],
     "language": "python",
     "metadata": {},
     "outputs": [
      {
       "metadata": {},
       "output_type": "pyout",
       "prompt_number": 8,
       "text": [
        "1998"
       ]
      }
     ],
     "prompt_number": 8
    },
    {
     "cell_type": "code",
     "collapsed": false,
     "input": [
      "loc, scale = scipy.stats.expon.fit(simdists, floc=0)\n",
      "loc, scale\n",
      "sum(simdists)/len(simdists)"
     ],
     "language": "python",
     "metadata": {},
     "outputs": [
      {
       "metadata": {},
       "output_type": "pyout",
       "prompt_number": 9,
       "text": [
        "2365"
       ]
      }
     ],
     "prompt_number": 9
    },
    {
     "cell_type": "code",
     "collapsed": false,
     "input": [
      "pyplot.hist(simdists)"
     ],
     "language": "python",
     "metadata": {},
     "outputs": [
      {
       "metadata": {},
       "output_type": "pyout",
       "prompt_number": 10,
       "text": [
        "(array([  1.35200000e+03,   3.91000000e+02,   1.68000000e+02,\n",
        "         5.50000000e+01,   2.40000000e+01,   4.00000000e+00,\n",
        "         1.00000000e+00,   2.00000000e+00,   0.00000000e+00,\n",
        "         1.00000000e+00]),\n",
        " array([  1.00000000e+00,   2.65440000e+03,   5.30780000e+03,\n",
        "         7.96120000e+03,   1.06146000e+04,   1.32680000e+04,\n",
        "         1.59214000e+04,   1.85748000e+04,   2.12282000e+04,\n",
        "         2.38816000e+04,   2.65350000e+04]),\n",
        " <a list of 10 Patch objects>)"
       ]
      },
      {
       "metadata": {},
       "output_type": "display_data",
       "png": "[encoded data removed]",
       "text": [
        "<matplotlib.figure.Figure at 0x7fa9d9cb3590>"
       ]
      }
     ],
     "prompt_number": 10
    },
    {
     "cell_type": "code",
     "collapsed": false,
     "input": [
      "fo=open(\"ksnplocs.txt\").readlines()\n",
      "#fo=random.sample(fo,10)\n",
      "fo=[int(loc) for loc in fo]\n",
      "fo.sort()\n",
      "kdists=[]\n",
      "for i,lin in enumerate(fo[1:]):\n",
      "    kdists.append(int(lin)-int(fo[i]))\n"
     ],
     "language": "python",
     "metadata": {},
     "outputs": [],
     "prompt_number": 11
    },
    {
     "cell_type": "code",
     "collapsed": false,
     "input": [
      "fo=open(\"/home/ejmctavish/Documents/FDA/TreetoReads/example_out/mutsites.txt\").readlines()\n",
      "fo=[int(it) for it in fo]\n",
      "fo.sort()\n",
      "ndists=[]\n",
      "for i,lin in enumerate(fo[1:]):\n",
      "    ndists.append(int(lin)-int(fo[i]))\n"
     ],
     "language": "python",
     "metadata": {},
     "outputs": [],
     "prompt_number": 12
    },
    {
     "cell_type": "code",
     "collapsed": false,
     "input": [
      "randdist=random.sample(range(int(fo[-1])),2000)\n",
      "randdist.sort()\n",
      "rdists=[]\n",
      "for i,lin in enumerate(randdist[1:]):\n",
      "    rdists.append(int(lin)-int(randdist[i]))"
     ],
     "language": "python",
     "metadata": {},
     "outputs": [],
     "prompt_number": 13
    },
    {
     "cell_type": "code",
     "collapsed": false,
     "input": [
      "bins=range(0,10000,100)\n",
      "pyplot.hist(pdists, bins, alpha=0.5, label='snp pipeline')\n",
      "#pyplot.hist(kdists, bins, alpha=0.5, label='ksnp')\n",
      "pyplot.hist(simdists, bins, alpha=0.5, label='simulated')\n",
      "#pyplot.hist(Hdists, bins, alpha=0.5, label='HALF')\n",
      "#pyplot.hist(ndists, bins, alpha=0.5, label='nu')\n",
      "pyplot.title(\"Distances between SNPs\")\n",
      "pyplot.legend(loc='upper right')\n",
      "pyplot.show()\n"
     ],
     "language": "python",
     "metadata": {},
     "outputs": [
      {
       "metadata": {},
       "output_type": "display_data",
       "png": "[encoded data removed]",
       "text": [
        "<matplotlib.figure.Figure at 0x7fa9d9c17f10>"
       ]
      }
     ],
     "prompt_number": 14
    },
    {
     "cell_type": "code",
     "collapsed": false,
     "input": [
      "bins=range(0,1000,30)\n",
      "pyplot.hist(pdists, bins, alpha=0.5, label='snp pipeline')\n",
      "pyplot.hist(simdists, bins, alpha=0.5, label='simulated')\n",
      "#pyplot.hist(kdists, bins, alpha=0.5, label='ksnp ')\n",
      "#pyplot.hist(rdists, bins, alpha=0.5, label='random')\n",
      "#pyplot.hist(Hdists, bins, alpha=0.5, label='HALF')\n",
      "#pyplot.hist(ndists, bins, alpha=0.5, label='simmed')\n",
      "pyplot.legend(loc='upper right')\n",
      "pyplot.show()"
     ],
     "language": "python",
     "metadata": {},
     "outputs": [
      {
       "metadata": {},
       "output_type": "display_data",
       "png": "[encoded data removed]",
       "text": [
        "<matplotlib.figure.Figure at 0x7fa9d9bf8750>"
       ]
      }
     ],
     "prompt_number": 15
    },
    {
     "cell_type": "code",
     "collapsed": false,
     "input": [
      "bins=range(1000,50000,1000)\n",
      "pyplot.hist(pdists, bins, alpha=0.5, label='snp pipeline')\n",
      "pyplot.hist(simdists, bins, alpha=0.5, label='simulated')\n",
      "#pyplot.hist(kdists, bins, alpha=0.5, label='ksnp ')\n",
      "#pyplot.hist(rdists, bins, alpha=0.5, label='random')\n",
      "#pyplot.hist(ndists, bins, alpha=0.5, label='nu')\n",
      "pyplot.legend(loc='upper right')\n",
      "pyplot.show()"
     ],
     "language": "python",
     "metadata": {},
     "outputs": [
      {
       "metadata": {},
       "output_type": "display_data",
       "png": "[encoded data removed]",
       "text": [
        "<matplotlib.figure.Figure at 0x7fa9d9b9f710>"
       ]
      }
     ],
     "prompt_number": 16
    },
    {
     "cell_type": "code",
     "collapsed": false,
     "input": [
      "bins=range(0,4000,1)\n",
      "hist, bin_edges = numpy.histogram(pdists, bins)\n",
      "hist1, bin_edges1 = numpy.histogram(rdists, bins)\n",
      "diff=hist-hist1\n",
      "plot(bins[:-1],diff)\n",
      "axhline()"
     ],
     "language": "python",
     "metadata": {},
     "outputs": [
      {
       "metadata": {},
       "output_type": "pyout",
       "prompt_number": 17,
       "text": [
        "<matplotlib.lines.Line2D at 0x7fa9d9b94b90>"
       ]
      },
      {
       "metadata": {},
       "output_type": "display_data",
       "png": "[encoded data removed]",
       "text": [
        "<matplotlib.figure.Figure at 0x7fa9d9b94610>"
       ]
      }
     ],
     "prompt_number": 17
    },
    {
     "cell_type": "code",
     "collapsed": false,
     "input": [],
     "language": "python",
     "metadata": {},
     "outputs": [],
     "prompt_number": 17
    },
    {
     "cell_type": "code",
     "collapsed": false,
     "input": [],
     "language": "python",
     "metadata": {},
     "outputs": [],
     "prompt_number": 17
    },
    {
     "cell_type": "code",
     "collapsed": false,
     "input": [],
     "language": "python",
     "metadata": {},
     "outputs": [],
     "prompt_number": 15
    },
    {
     "cell_type": "code",
     "collapsed": false,
     "input": [],
     "language": "python",
     "metadata": {},
     "outputs": []
    }
   ],
   "metadata": {}
  }
 ]
}