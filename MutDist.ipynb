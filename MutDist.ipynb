{
 "metadata": {
  "name": ""
 },
 "nbformat": 3,
 "nbformat_minor": 0,
 "worksheets": [
  {
   "cells": [
    {
     "cell_type": "code",
     "collapsed": false,
     "input": [
      "#cat VCF.CFSAN000189.vcf | cut -f2 | sort -g | tail -n+4 > bariellylocs.txt "
     ],
     "language": "python",
     "metadata": {},
     "outputs": [],
     "prompt_number": 1
    },
    {
     "cell_type": "code",
     "collapsed": false,
     "input": [
      "import matplotlib.pyplot as plt\n",
      "import random\n",
      "import scipy.stats"
     ],
     "language": "python",
     "metadata": {},
     "outputs": [],
     "prompt_number": 46
    },
    {
     "cell_type": "code",
     "collapsed": false,
     "input": [
      "#fo=open(\"bariellylocs.txt\").readlines()\n",
      "fo=open(\"pipelocs.txt\").readlines()\n",
      "fo=random.sample(fo,10)\n",
      "fo=[int(loc) for loc in fo]\n",
      "fo.sort()\n",
      "dists=[]\n",
      "for i,lin in enumerate(fo[1:]):\n",
      "    dists.append(int(lin)-int(fo[i]))\n"
     ],
     "language": "python",
     "metadata": {},
     "outputs": [],
     "prompt_number": 126
    },
    {
     "cell_type": "code",
     "collapsed": false,
     "input": [
      "len(dists)\n",
      "dists[int(len(dists)*0.5)]"
     ],
     "language": "python",
     "metadata": {},
     "outputs": [
      {
       "metadata": {},
       "output_type": "pyout",
       "prompt_number": 127,
       "text": [
        "32162"
       ]
      }
     ],
     "prompt_number": 127
    },
    {
     "cell_type": "code",
     "collapsed": false,
     "input": [
      "loc, scale = scipy.stats.expon.fit(dists, floc=0)\n",
      "loc, scale"
     ],
     "language": "python",
     "metadata": {},
     "outputs": [
      {
       "metadata": {},
       "output_type": "pyout",
       "prompt_number": 128,
       "text": [
        "(0, 448089.56243927224)"
       ]
      }
     ],
     "prompt_number": 128
    },
    {
     "cell_type": "code",
     "collapsed": false,
     "input": [
      "lambd = 15\n",
      "rands=[]\n",
      "i=0\n",
      "genlen=4714238\n",
      "while i < 10: #This is the number of SNPs\n",
      "    if i%100==0:\n",
      "        print('.')\n",
      "    if i < 10:\n",
      "            i+=2\n",
      "            ran=random.choice(range(genlen))\n",
      "            rands.append(ran)\n",
      "            diff=int(random.expovariate(lambd))\n",
      "            if (random.choice([0, 1]) or (ran-diff < 0)) and (ran+diff < genlen):\n",
      "              ranpair=ran+diff\n",
      "            else:\n",
      "              ranpair=ran-diff #Can run off of the end of the genome...\n",
      "            rands.append(ranpair)\n",
      "\n",
      "    else:\n",
      "            i+=1\n",
      "            ran=random.choice(range(genlen))\n",
      "            rands.append(ran)\n"
     ],
     "language": "python",
     "metadata": {},
     "outputs": [
      {
       "output_type": "stream",
       "stream": "stdout",
       "text": [
        ".\n"
       ]
      }
     ],
     "prompt_number": 71
    },
    {
     "cell_type": "code",
     "collapsed": false,
     "input": [
      "rands.sort()\n",
      "ranpair\n",
      "ran\n",
      "diff"
     ],
     "language": "python",
     "metadata": {},
     "outputs": [
      {
       "metadata": {},
       "output_type": "pyout",
       "prompt_number": 75,
       "text": [
        "0"
       ]
      }
     ],
     "prompt_number": 75
    },
    {
     "cell_type": "code",
     "collapsed": false,
     "input": [
      "fo=open(\"/home/ejmctavish/Documents/FDA/TreetoReads/example_out/mutsites.txt\").readlines()\n",
      "fo=[int(it) for it in fo]\n",
      "fo.sort()\n",
      "nudists=[]\n",
      "for i,lin in enumerate(fo[1:]):\n",
      "    nudists.append(int(lin)-int(fo[i]))\n"
     ],
     "language": "python",
     "metadata": {},
     "outputs": [],
     "prompt_number": 41
    },
    {
     "cell_type": "code",
     "collapsed": false,
     "input": [
      "int(random.gammavariate(self.alpha, self.beta))"
     ],
     "language": "python",
     "metadata": {},
     "outputs": [
      {
       "metadata": {},
       "output_type": "pyout",
       "prompt_number": 44,
       "text": [
        "1107106"
       ]
      }
     ],
     "prompt_number": 44
    },
    {
     "cell_type": "code",
     "collapsed": false,
     "input": [
      "halb=random.sample(fo,len(fo)/2)\n",
      "halb.sort()\n",
      "Hdists=[]\n",
      "for i,lin in enumerate(halb[1:]):\n",
      "    Hdists.append(int(lin)-int(halb[i]))"
     ],
     "language": "python",
     "metadata": {},
     "outputs": [],
     "prompt_number": 33
    },
    {
     "cell_type": "code",
     "collapsed": false,
     "input": [
      "randdist=random.sample(range(int(fo[-1])),20382)"
     ],
     "language": "python",
     "metadata": {},
     "outputs": [],
     "prompt_number": 34
    },
    {
     "cell_type": "code",
     "collapsed": false,
     "input": [
      "randdist.sort()\n",
      "nudists[:10]"
     ],
     "language": "python",
     "metadata": {},
     "outputs": [
      {
       "metadata": {},
       "output_type": "pyout",
       "prompt_number": 40,
       "text": [
        "[200, 606849, 78, 260919, 63, 1195235, 55, 65663, 133, 548340]"
       ]
      }
     ],
     "prompt_number": 40
    },
    {
     "cell_type": "code",
     "collapsed": false,
     "input": [
      "rdists=[]\n",
      "for i,lin in enumerate(randdist[1:]):\n",
      "    rdists.append(int(lin)-int(randdist[i]))"
     ],
     "language": "python",
     "metadata": {},
     "outputs": [],
     "prompt_number": 36
    },
    {
     "cell_type": "code",
     "collapsed": false,
     "input": [
      "rdists[:10]"
     ],
     "language": "python",
     "metadata": {},
     "outputs": [
      {
       "metadata": {},
       "output_type": "pyout",
       "prompt_number": 37,
       "text": [
        "[329, 28, 351, 123, 324, 228, 74, 208, 171, 739]"
       ]
      }
     ],
     "prompt_number": 37
    },
    {
     "cell_type": "code",
     "collapsed": false,
     "input": [
      "bins=range(0,100000,5000)\n",
      "pyplot.hist(dists, bins, alpha=0.5, label='observed')\n",
      "#pyplot.hist(rdists, bins, alpha=0.5, label='random')\n",
      "#pyplot.hist(Hdists, bins, alpha=0.5, label='HALF')\n",
      "#pyplot.hist(nudists, bins, alpha=0.5, label='nu')\n",
      "pyplot.title(\"Distances between SNPs\")\n",
      "pyplot.legend(loc='upper right')\n",
      "pyplot.show()\n"
     ],
     "language": "python",
     "metadata": {},
     "outputs": [
      {
       "metadata": {},
       "output_type": "display_data",
       "png": "[encoded data removed]",
       "text": [
        "<matplotlib.figure.Figure at 0x7fcf8c2eb190>"
       ]
      }
     ],
     "prompt_number": 99
    },
    {
     "cell_type": "code",
     "collapsed": false,
     "input": [
      "bins=range(0,100,1)\n",
      "pyplot.hist(dists, bins, alpha=0.5, label='observed')\n",
      "#pyplot.hist(rdists, bins, alpha=0.5, label='random')\n",
      "#pyplot.hist(Hdists, bins, alpha=0.5, label='HALF')\n",
      "#pyplot.hist(nudists, bins, alpha=0.5, label='nu')\n",
      "pyplot.legend(loc='upper right')\n",
      "pyplot.show()"
     ],
     "language": "python",
     "metadata": {},
     "outputs": [
      {
       "metadata": {},
       "output_type": "display_data",
       "png": "[encoded data removed]",
       "text": [
        "<matplotlib.figure.Figure at 0x7fcf9d496490>"
       ]
      }
     ],
     "prompt_number": 102
    },
    {
     "cell_type": "code",
     "collapsed": false,
     "input": [
      "bins=range(0,500,10)\n",
      "pyplot.hist(dists, bins, alpha=0.5, label='observed')\n",
      "#pyplot.hist(rdists, bins, alpha=0.5, label='random')\n",
      "pyplot.hist(nudists, bins, alpha=0.5, label='nu')\n",
      "pyplot.legend(loc='upper right')\n",
      "pyplot.show()"
     ],
     "language": "python",
     "metadata": {},
     "outputs": [
      {
       "metadata": {},
       "output_type": "display_data",
       "png": "[encoded data removed]",
       "text": [
        "<matplotlib.figure.Figure at 0x7fcf9df25450>"
       ]
      }
     ],
     "prompt_number": 14
    },
    {
     "cell_type": "code",
     "collapsed": false,
     "input": [
      "bins=range(1000,8000,100)\n",
      "pyplot.hist(dists, bins, alpha=0.5, label='observed')\n",
      "#pyplot.hist(rdists, bins, alpha=0.5, label='random')\n",
      "#pyplot.hist(Hdists, bins, alpha=0.5, label='HALF')\n",
      "pyplot.hist(nudists, bins, alpha=0.5, label='nu')\n",
      "pyplot.legend(loc='upper right')\n",
      "pyplot.show()"
     ],
     "language": "python",
     "metadata": {},
     "outputs": [
      {
       "metadata": {},
       "output_type": "display_data",
       "png": "[encoded data removed]",
       "text": [
        "<matplotlib.figure.Figure at 0x7fcf9ddc77d0>"
       ]
      }
     ],
     "prompt_number": 15
    },
    {
     "cell_type": "code",
     "collapsed": false,
     "input": [
      "bins=range(0,4000,10)\n",
      "hist, bin_edges = numpy.histogram(dists, bins)\n",
      "hist1, bin_edges1 = numpy.histogram(rdists, bins)\n",
      "diff=hist-hist1\n",
      "plot(bins[:-1],diff)\n",
      "axhline()"
     ],
     "language": "python",
     "metadata": {},
     "outputs": [
      {
       "metadata": {},
       "output_type": "pyout",
       "prompt_number": 16,
       "text": [
        "<matplotlib.lines.Line2D at 0x7fcf9de84f90>"
       ]
      },
      {
       "metadata": {},
       "output_type": "display_data",
       "png": "[encoded data removed]",
       "text": [
        "<matplotlib.figure.Figure at 0x7fcf9de84dd0>"
       ]
      }
     ],
     "prompt_number": 16
    },
    {
     "cell_type": "code",
     "collapsed": false,
     "input": [
      "pyplot.hist(dists)\n",
      "\n"
     ],
     "language": "python",
     "metadata": {},
     "outputs": [
      {
       "metadata": {},
       "output_type": "pyout",
       "prompt_number": 103,
       "text": [
        "(array([ 144.,   22.,   15.,    7.,    6.,    3.,    0.,    0.,    0.,    2.]),\n",
        " array([  2.80000000e+01,   2.31732000e+04,   4.63184000e+04,\n",
        "         6.94636000e+04,   9.26088000e+04,   1.15754000e+05,\n",
        "         1.38899200e+05,   1.62044400e+05,   1.85189600e+05,\n",
        "         2.08334800e+05,   2.31480000e+05]),\n",
        " <a list of 10 Patch objects>)"
       ]
      },
      {
       "metadata": {},
       "output_type": "display_data",
       "png": "[encoded data removed]",
       "text": [
        "<matplotlib.figure.Figure at 0x7fcf8c2c0c50>"
       ]
      }
     ],
     "prompt_number": 103
    },
    {
     "cell_type": "code",
     "collapsed": false,
     "input": [
      "sum(dists)"
     ],
     "language": "python",
     "metadata": {},
     "outputs": [
      {
       "metadata": {},
       "output_type": "pyout",
       "prompt_number": 18,
       "text": [
        "4729237"
       ]
      }
     ],
     "prompt_number": 18
    },
    {
     "cell_type": "code",
     "collapsed": false,
     "input": [
      "sum(dists)/len(dists)"
     ],
     "language": "python",
     "metadata": {},
     "outputs": [
      {
       "metadata": {},
       "output_type": "pyout",
       "prompt_number": 19,
       "text": [
        "145"
       ]
      }
     ],
     "prompt_number": 19
    },
    {
     "cell_type": "code",
     "collapsed": false,
     "input": [
      "sum(rdists)/len(rdists)"
     ],
     "language": "python",
     "metadata": {},
     "outputs": [
      {
       "metadata": {},
       "output_type": "pyout",
       "prompt_number": 20,
       "text": [
        "231"
       ]
      }
     ],
     "prompt_number": 20
    },
    {
     "cell_type": "code",
     "collapsed": false,
     "input": [
      "max(dists)"
     ],
     "language": "python",
     "metadata": {},
     "outputs": [
      {
       "metadata": {},
       "output_type": "pyout",
       "prompt_number": 21,
       "text": [
        "13624"
       ]
      }
     ],
     "prompt_number": 21
    },
    {
     "cell_type": "code",
     "collapsed": false,
     "input": [
      "max(rdists)"
     ],
     "language": "python",
     "metadata": {},
     "outputs": [
      {
       "metadata": {},
       "output_type": "pyout",
       "prompt_number": 22,
       "text": [
        "2295"
       ]
      }
     ],
     "prompt_number": 22
    },
    {
     "cell_type": "code",
     "collapsed": false,
     "input": [
      "float(len(dists))/sum(rdists)"
     ],
     "language": "python",
     "metadata": {},
     "outputs": [
      {
       "metadata": {},
       "output_type": "pyout",
       "prompt_number": 23,
       "text": [
        "0.0069183510683434313"
       ]
      }
     ],
     "prompt_number": 23
    },
    {
     "cell_type": "code",
     "collapsed": false,
     "input": [
      "random.uniform(0,1)"
     ],
     "language": "python",
     "metadata": {},
     "outputs": [
      {
       "metadata": {},
       "output_type": "pyout",
       "prompt_number": 24,
       "text": [
        "0.7186034690079929"
       ]
      }
     ],
     "prompt_number": 24
    },
    {
     "cell_type": "code",
     "collapsed": false,
     "input": [
      "int(numpy.random.normal(25, 10))"
     ],
     "language": "python",
     "metadata": {},
     "outputs": [
      {
       "metadata": {},
       "output_type": "pyout",
       "prompt_number": 25,
       "text": [
        "35"
       ]
      }
     ],
     "prompt_number": 25
    },
    {
     "cell_type": "code",
     "collapsed": false,
     "input": [
      "tes=[]\n",
      "for i in range(10000):\n",
      "    tes.append(int(random.gammavariate(4, 25)))"
     ],
     "language": "python",
     "metadata": {},
     "outputs": [],
     "prompt_number": 26
    },
    {
     "cell_type": "code",
     "collapsed": false,
     "input": [
      "pyplot.hist(tes,alpha=0.5, label='nu')"
     ],
     "language": "python",
     "metadata": {},
     "outputs": [
      {
       "metadata": {},
       "output_type": "pyout",
       "prompt_number": 27,
       "text": [
        "(array([  1.84200000e+03,   3.86300000e+03,   2.65100000e+03,\n",
        "         1.11000000e+03,   3.79000000e+02,   1.17000000e+02,\n",
        "         2.30000000e+01,   1.20000000e+01,   2.00000000e+00,\n",
        "         1.00000000e+00]),\n",
        " array([   8. ,   54.4,  100.8,  147.2,  193.6,  240. ,  286.4,  332.8,\n",
        "        379.2,  425.6,  472. ]),\n",
        " <a list of 10 Patch objects>)"
       ]
      },
      {
       "metadata": {},
       "output_type": "display_data",
       "png": "[encoded data removed]",
       "text": [
        "<matplotlib.figure.Figure at 0x7fcf9dab24d0>"
       ]
      }
     ],
     "prompt_number": 27
    },
    {
     "cell_type": "code",
     "collapsed": false,
     "input": [],
     "language": "python",
     "metadata": {},
     "outputs": [],
     "prompt_number": 27
    },
    {
     "cell_type": "code",
     "collapsed": false,
     "input": [],
     "language": "python",
     "metadata": {},
     "outputs": []
    }
   ],
   "metadata": {}
  }
 ]
}